{
  "nbformat": 4,
  "nbformat_minor": 0,
  "metadata": {
    "colab": {
      "name": "HW1.ipynb",
      "provenance": [],
      "collapsed_sections": []
    },
    "kernelspec": {
      "name": "python3",
      "display_name": "Python 3"
    }
  },
  "cells": [
    {
      "cell_type": "code",
      "metadata": {
        "id": "KrTPMutK661X",
        "colab_type": "code",
        "colab": {}
      },
      "source": [
        "import random\n",
        "random.seed(1234567)"
      ],
      "execution_count": 88,
      "outputs": []
    },
    {
      "cell_type": "code",
      "metadata": {
        "id": "3Y89c4j_68HT",
        "colab_type": "code",
        "colab": {}
      },
      "source": [
        "import numpy as np\n",
        "mean=[0,0,0,0]\n",
        "matrix=[[1,0.5,0.5,0.5],\n",
        "        [0.5,1,0.5,0.5],\n",
        "        [0.5,0.5,1,0.5],\n",
        "        [0.5,0.5,0.5,1]]\n",
        "X=np.random.multivariate_normal(mean,matrix,100)"
      ],
      "execution_count": 89,
      "outputs": []
    },
    {
      "cell_type": "code",
      "metadata": {
        "id": "uE7bulzZ7KmD",
        "colab_type": "code",
        "colab": {}
      },
      "source": [
        "B= np.random.uniform(0,1,4)\n",
        "\n",
        "mean=np.multiply(X,B)\n",
        "\n",
        "matrix=[[1,0.5,0.5,0.5],\n",
        "        [0.5,1,0.5,0.5],\n",
        "        [0.5,0.5,1,0.5],\n",
        "        [0.5,0.5,0.5,1]]\n",
        "\n",
        "input=[0.03]*100\n",
        "\n",
        "Y=np.diagflat(input)"
      ],
      "execution_count": 90,
      "outputs": []
    },
    {
      "cell_type": "code",
      "metadata": {
        "id": "mAgc_ISp7nSG",
        "colab_type": "code",
        "colab": {
          "base_uri": "https://localhost:8080/",
          "height": 102
        },
        "outputId": "08e0475f-f235-446d-f2ac-3a4d800147a3"
      },
      "source": [
        "from numpy.linalg import inv\n",
        "Beta=np.dot(np.dot(inv(np.dot(np.transpose(X),X)),np.transpose(X)),Y)\n",
        "\n",
        "import pandas as pd\n",
        "Beta = pd.DataFrame(Beta)\n",
        "Beta.mean(axis=1)\n"
      ],
      "execution_count": 91,
      "outputs": [
        {
          "output_type": "execute_result",
          "data": {
            "text/plain": [
              "0    0.000025\n",
              "1   -0.000011\n",
              "2    0.000021\n",
              "3   -0.000032\n",
              "dtype: float64"
            ]
          },
          "metadata": {
            "tags": []
          },
          "execution_count": 91
        }
      ]
    },
    {
      "cell_type": "code",
      "metadata": {
        "id": "OajB1FzvaIgC",
        "colab_type": "code",
        "colab": {
          "base_uri": "https://localhost:8080/",
          "height": 102
        },
        "outputId": "324182a3-53d5-4fd9-8382-684fe06ab246"
      },
      "source": [
        "Beta.var(axis=1)"
      ],
      "execution_count": 92,
      "outputs": [
        {
          "output_type": "execute_result",
          "data": {
            "text/plain": [
              "0    1.167112e-07\n",
              "1    1.649989e-07\n",
              "2    1.392005e-07\n",
              "3    1.462097e-07\n",
              "dtype: float64"
            ]
          },
          "metadata": {
            "tags": []
          },
          "execution_count": 92
        }
      ]
    },
    {
      "cell_type": "code",
      "metadata": {
        "id": "aO94KLcc73je",
        "colab_type": "code",
        "colab": {}
      },
      "source": [
        "import statistics\n",
        "def beta_p(p,X,Y):\n",
        " X=pd.DataFrame(X)\n",
        " Beta1=np.dot(np.dot(inv(np.dot(np.transpose(X.iloc[:,X.columns != p]),X.iloc[:,X.columns != p])),np.transpose(X.iloc[:,X.columns != p])),Y)\n",
        " res1=np.subtract(Y,np.dot(X.iloc[:,X.columns != p],Beta1))\n",
        " Beta2=np.dot(np.dot(inv(np.dot(np.transpose(X.iloc[:,X.columns != p]),X.iloc[:,X.columns != p])),np.transpose(X.iloc[:,X.columns != p])),X.iloc[:,p])\n",
        " res2=np.subtract(X.iloc[:,p],np.dot(X.iloc[:,X.columns != p],Beta2))\n",
        " Beta3=np.dot(np.dot((1/np.dot(np.transpose(res2),res2)),np.transpose(res2)),res1)\n",
        " return [statistics.mean(Beta3),statistics.variance(Beta3)]\n"
      ],
      "execution_count": 93,
      "outputs": []
    },
    {
      "cell_type": "code",
      "metadata": {
        "id": "iFz5q_oaZCmJ",
        "colab_type": "code",
        "colab": {
          "base_uri": "https://localhost:8080/",
          "height": 34
        },
        "outputId": "2d25a49d-1b0f-4082-ab2e-be29c52e38f8"
      },
      "source": [
        "beta_p(0,X,Y)"
      ],
      "execution_count": 94,
      "outputs": [
        {
          "output_type": "execute_result",
          "data": {
            "text/plain": [
              "[2.503387279046888e-05, 1.1671119426022385e-07]"
            ]
          },
          "metadata": {
            "tags": []
          },
          "execution_count": 94
        }
      ]
    },
    {
      "cell_type": "code",
      "metadata": {
        "id": "yLR4Njn6aTxG",
        "colab_type": "code",
        "colab": {
          "base_uri": "https://localhost:8080/",
          "height": 34
        },
        "outputId": "63870424-e5f5-4803-8a62-86d3db95f719"
      },
      "source": [
        "beta_p(1,X,Y)"
      ],
      "execution_count": 95,
      "outputs": [
        {
          "output_type": "execute_result",
          "data": {
            "text/plain": [
              "[-1.1492977669797446e-05, 1.649988955940305e-07]"
            ]
          },
          "metadata": {
            "tags": []
          },
          "execution_count": 95
        }
      ]
    },
    {
      "cell_type": "code",
      "metadata": {
        "id": "-CqInrXVaVh-",
        "colab_type": "code",
        "colab": {
          "base_uri": "https://localhost:8080/",
          "height": 34
        },
        "outputId": "cdda5850-8003-4564-9539-a5fe256ff529"
      },
      "source": [
        "beta_p(2,X,Y)"
      ],
      "execution_count": 96,
      "outputs": [
        {
          "output_type": "execute_result",
          "data": {
            "text/plain": [
              "[2.119343104777772e-05, 1.3920052877442503e-07]"
            ]
          },
          "metadata": {
            "tags": []
          },
          "execution_count": 96
        }
      ]
    },
    {
      "cell_type": "code",
      "metadata": {
        "id": "gFNf4wT0aW0W",
        "colab_type": "code",
        "colab": {
          "base_uri": "https://localhost:8080/",
          "height": 34
        },
        "outputId": "a3a86a57-241b-45d6-c9ce-2e3783e57e4b"
      },
      "source": [
        "beta_p(3,X,Y)"
      ],
      "execution_count": 97,
      "outputs": [
        {
          "output_type": "execute_result",
          "data": {
            "text/plain": [
              "[-3.17799547156887e-05, 1.462096545388273e-07]"
            ]
          },
          "metadata": {
            "tags": []
          },
          "execution_count": 97
        }
      ]
    }
  ]
}