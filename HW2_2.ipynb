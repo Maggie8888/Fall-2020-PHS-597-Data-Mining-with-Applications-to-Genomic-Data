{
  "nbformat": 4,
  "nbformat_minor": 0,
  "metadata": {
    "colab": {
      "name": "HW3_2.ipynb",
      "provenance": [],
      "collapsed_sections": []
    },
    "kernelspec": {
      "name": "python3",
      "display_name": "Python 3"
    }
  },
  "cells": [
    {
      "cell_type": "code",
      "metadata": {
        "id": "QsLv7OAx72V1",
        "colab_type": "code",
        "colab": {}
      },
      "source": [
        "import numpy as np\n",
        "import pandas as pd\n",
        "from sklearn.cross_decomposition import PLSRegression\n",
        "from sklearn import preprocessing\n",
        "np.random.seed(123456789)"
      ],
      "execution_count": 1,
      "outputs": []
    },
    {
      "cell_type": "code",
      "metadata": {
        "id": "WNL4xl0jVmKc",
        "colab_type": "code",
        "colab": {}
      },
      "source": [
        "### define function for PLS ###\n",
        "class Algorithm:\n",
        "\n",
        "  def generate_simulate_data(self):\n",
        "    n = 1000\n",
        "    q = 3\n",
        "    p = 10\n",
        "    X = np.random.normal(size=n * p).reshape((n, p))\n",
        "    B = np.array([[1, 2] + [0] * (p - 2)] * q).T\n",
        "# each Yj = 1*X1 + 2*X2 + noize\n",
        "    Y = np.dot(X, B) + np.random.normal(size=n * q).reshape((n, q)) + 5\n",
        "    scaler = preprocessing.StandardScaler()\n",
        "    x = scaler.fit_transform(X)\n",
        "    y =scaler.fit_transform(Y)\n",
        "    return x, y\n",
        "\n",
        "\n",
        "  def __init__(self,tol1=0.1, tol2=0.1):\n",
        "    self.tol1 = 0.1\n",
        "    self.tol2 = 0.1\n",
        "\n",
        "  def colMaxSum(self,mat): \n",
        "    # Variable to store index of column \n",
        "    # with maximum\n",
        "    idx = -1\n",
        "    # Variable to store max Sum\n",
        "    maxSum = -10**9\n",
        "    # Traverse matrix column wise \n",
        "    for i in range(np.size(mat,1)): \n",
        "        Sum = 0\n",
        "        # calculate Sum of column \n",
        "        for j in range(len(mat)): \n",
        "            Sum += mat[j][i]**2 \n",
        "        # Update maxSum if it is less  \n",
        "        # than current Sum \n",
        "        if (Sum > maxSum): \n",
        "          maxSum = Sum\n",
        "          # store index \n",
        "          idx = i \n",
        "        # return result \n",
        "    return idx\n",
        "  \n",
        " \n",
        "  def pls(self, x, y):\n",
        "    \"\"\"\n",
        "##PLS   Partial Least Squares Regrassion\n",
        "##between the independent variables, X and dependent Y as\n",
        "## X = T*P' + E;\n",
        "## Y = U*Q' + F = T*B*Q' + F1;\n",
        "##\n",
        "## Inputs:\n",
        "## X     data matrix of independent variables\n",
        "## Y     data matrix of dependent variables\n",
        "## tol1   the tolerant of convergence \n",
        "## tol2   control the magnitude of shrinkage of coefficients in regression\n",
        "###\n",
        "## Outputs:\n",
        "## T     score matrix of X\n",
        "## P     loading matrix of X\n",
        "## U     score matrix of Y\n",
        "## Q     loading matrix of Y\n",
        "## B     matrix of regression coefficient\n",
        "## W     weight matrix of X\n",
        "## Using the PLS model, for new X1, Y1 can be predicted as\n",
        "## Y1 = (X1*P)*B*Q' = X1*(P*B*Q')\n",
        "## or\n",
        "## Y1 = X1*(W*inv(P'*W)*inv(T'*T)*T'*Y)\n",
        "##\n",
        "## Without Y provided, the function will return the principal components as\n",
        "## X = T*P' + E\n",
        "##\n",
        "\t\t\"\"\"\n",
        "    rx=len(x)\n",
        "    cx=np.size(x,1)\n",
        "    ry=len(y)\n",
        "    cy=np.size(y,1)\n",
        "    n=max(cx,cy)\n",
        "    T=np.zeros((rx,n))\n",
        "    P=np.zeros((cx,n))\n",
        "    U=np.zeros((ry,n))\n",
        "    Q=np.zeros((cy,n))\n",
        "    B=np.zeros((n,n))\n",
        "    W=P\n",
        "    k=0\n",
        "    \"\"\" iteration loop if residual is larger than specfied\"\"\"\n",
        "    while np.linalg.norm(y)>self.tol2 and k<n and np.isnan(np.linalg.norm(y))==False:\n",
        "      \"\"\" choose the column of x has the largest square of sum as t.\"\"\"\n",
        "      \"\"\" choose the column of y has the largest square of sum as u.\"\"\"   \n",
        "      tidx =  self.colMaxSum(x)\n",
        "      uidx =  self.colMaxSum(y)\n",
        "      t1 = x[:,tidx]\n",
        "      u = y[:,uidx]\n",
        "      t = np.zeros((rx,1))\n",
        "      \"\"\" iteration for outer modeling until convergence\"\"\"\n",
        "\n",
        "      while np.linalg.norm(t1-t) > self.tol1:\n",
        "          w = np.dot(np.transpose(x),u)\n",
        "          w = w/np.linalg.norm(w)\n",
        "          t = t1\n",
        "          t1 = np.dot(x,w)\n",
        "          q = np.dot(np.transpose(y),t1)\n",
        "          q = q/np.linalg.norm(q)\n",
        "          u = np.dot(y,q)\n",
        "          \"\"\" update p based on t \"\"\"\n",
        "      t=t1\n",
        "      p=np.dot(np.transpose(x),t[:, np.newaxis])/(np.transpose(t)*t)\n",
        "      pnorm=np.linalg.norm(p)\n",
        "      p=p/pnorm\n",
        "      t=pnorm*t\n",
        "      w=pnorm*w\n",
        "      \"\"\" regression and residuals \"\"\"\n",
        "      b = np.dot(np.transpose(u),t)/np.dot(np.transpose(t),t)\n",
        "      x = x- np.dot(t,np.transpose(p))\n",
        "      #y = y - b*np.dot(t,np.transpose(q))\n",
        "      y = y - np.dot(t[:, np.newaxis],np.transpose(q[:, np.newaxis]))\n",
        "      \"\"\" save iteration results to outputs: \"\"\"\n",
        "      #k=k+1\n",
        "      T=pd.DataFrame(T)\n",
        "      P=pd.DataFrame(P)\n",
        "      U=pd.DataFrame(U)\n",
        "      Q=pd.DataFrame(Q)\n",
        "      W=pd.DataFrame(W)\n",
        "      B=pd.DataFrame(B)\n",
        "      T.iloc[:,k]=t\n",
        "      P.iloc[:,k]=p\n",
        "      U.iloc[:,k]=u\n",
        "      Q.iloc[:,k]=q\n",
        "      W.iloc[:,k]=w\n",
        "      B.iloc[k,k]=b\n",
        "      k=k+1\n",
        "    T.iloc[:,k:]=[]\n",
        "    P.iloc[:,k:]=[]\n",
        "    U.iloc[:,k:]=[]\n",
        "    Q.iloc[:,k:]=[]\n",
        "    W.iloc[:,k:]=[]\n",
        "    B=B.iloc[0:k,0:k]\n",
        "    return T,P,U,Q,W,B\n",
        "    \n"
      ],
      "execution_count": 2,
      "outputs": []
    },
    {
      "cell_type": "code",
      "metadata": {
        "id": "cqMu7oqY_v5S",
        "colab_type": "code",
        "colab": {}
      },
      "source": [
        "if __name__=='__main__':\n",
        "    algorithm = Algorithm()\n",
        "    x, y = algorithm.generate_simulate_data()\n",
        "    T,P,U,Q,W,B = algorithm.pls(x, y)"
      ],
      "execution_count": 3,
      "outputs": []
    },
    {
      "cell_type": "code",
      "metadata": {
        "id": "ErvB2DsRSmUw",
        "colab_type": "code",
        "colab": {
          "base_uri": "https://localhost:8080/",
          "height": 289
        },
        "outputId": "6b463d3f-ed3d-4625-d895-f87133afe2eb"
      },
      "source": [
        "print(B)\n",
        "np.diagonal(B)"
      ],
      "execution_count": 4,
      "outputs": [
        {
          "output_type": "stream",
          "text": [
            "              0             1         2  ...         7         8             9\n",
            "0  2.736675e-11  0.000000e+00  0.000000  ...  0.000000  0.000000  0.000000e+00\n",
            "1  0.000000e+00  2.919486e-08  0.000000  ...  0.000000  0.000000  0.000000e+00\n",
            "2  0.000000e+00  0.000000e+00  0.000001  ...  0.000000  0.000000  0.000000e+00\n",
            "3  0.000000e+00  0.000000e+00  0.000000  ...  0.000000  0.000000  0.000000e+00\n",
            "4  0.000000e+00  0.000000e+00  0.000000  ...  0.000000  0.000000  0.000000e+00\n",
            "5  0.000000e+00  0.000000e+00  0.000000  ...  0.000000  0.000000  0.000000e+00\n",
            "6  0.000000e+00  0.000000e+00  0.000000  ...  0.000000  0.000000  0.000000e+00\n",
            "7  0.000000e+00  0.000000e+00  0.000000  ...  0.000001  0.000000  0.000000e+00\n",
            "8  0.000000e+00  0.000000e+00  0.000000  ...  0.000000  0.000001  0.000000e+00\n",
            "9  0.000000e+00  0.000000e+00  0.000000  ...  0.000000  0.000000  1.000000e-06\n",
            "\n",
            "[10 rows x 10 columns]\n"
          ],
          "name": "stdout"
        },
        {
          "output_type": "execute_result",
          "data": {
            "text/plain": [
              "array([2.73667532e-11, 2.91948569e-08, 1.00000100e-06, 1.00000000e-06,\n",
              "       1.00000000e-06, 1.00000000e-06, 1.00000000e-06, 1.00000000e-06,\n",
              "       1.00000000e-06, 1.00000000e-06])"
            ]
          },
          "metadata": {
            "tags": []
          },
          "execution_count": 4
        }
      ]
    }
  ]
}