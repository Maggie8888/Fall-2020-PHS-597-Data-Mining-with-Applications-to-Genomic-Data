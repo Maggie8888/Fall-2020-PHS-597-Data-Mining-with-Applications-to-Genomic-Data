{
  "nbformat": 4,
  "nbformat_minor": 0,
  "metadata": {
    "colab": {
      "name": "HW2_v2.ipynb",
      "provenance": [],
      "collapsed_sections": []
    },
    "kernelspec": {
      "name": "python3",
      "display_name": "Python 3"
    }
  },
  "cells": [
    {
      "cell_type": "code",
      "metadata": {
        "id": "QsLv7OAx72V1",
        "colab_type": "code",
        "colab": {}
      },
      "source": [
        "import numpy as np\n",
        "import pandas as pd\n",
        "from sklearn.cross_decomposition import PLSRegression\n",
        "from sklearn import preprocessing\n",
        "from numpy.linalg import inv"
      ],
      "execution_count": 99,
      "outputs": []
    },
    {
      "cell_type": "code",
      "metadata": {
        "id": "WNL4xl0jVmKc",
        "colab_type": "code",
        "colab": {}
      },
      "source": [
        "np.random.seed(123456789)\n",
        "n = 1000\n",
        "q = 1\n",
        "p = 10\n",
        "X = np.random.normal(size=n * p).reshape((n, p))\n",
        "B = np.array([[1, 2] + [0] * (p - 2)] * q).T\n",
        "Y = np.dot(X, B) + np.random.normal(size=n * q).reshape((n, q)) + 5\n",
        "scaler = preprocessing.StandardScaler()\n",
        "x = scaler.fit_transform(X)\n",
        "y =scaler.fit_transform(Y)\n",
        "    \n"
      ],
      "execution_count": 100,
      "outputs": []
    },
    {
      "cell_type": "code",
      "metadata": {
        "id": "cqMu7oqY_v5S",
        "colab_type": "code",
        "colab": {}
      },
      "source": [
        "def pls(x,y,A):\n",
        " b=np.zeros((np.size(x,1),A))\n",
        " V=np.dot(np.transpose(x),y)\n",
        " XX=np.dot(x,V)\n",
        " b[:,[0]]=np.dot(V,(np.dot(np.dot(np.linalg.pinv(np.dot(np.transpose(XX),XX)),np.transpose(XX)),y)))\n",
        " for a in range(1,A):\n",
        "   V=np.column_stack((b,np.dot(np.transpose(x),np.dot(x,b[:,[a-1]]))))\n",
        "   inv=np.linalg.pinv(np.dot(np.transpose(np.dot(x,V)),np.dot(x,V)))\n",
        "   b[:,[a]]=np.dot(V,(np.dot(inv,np.dot(np.transpose(np.dot(x,V)),y))))\n",
        " return b\n"
      ],
      "execution_count": 101,
      "outputs": []
    },
    {
      "cell_type": "code",
      "metadata": {
        "id": "ErvB2DsRSmUw",
        "colab_type": "code",
        "colab": {
          "base_uri": "https://localhost:8080/",
          "height": 187
        },
        "outputId": "bb25c3f9-7d3e-4f38-f13a-4a95aa8bf11b"
      },
      "source": [
        "res=pls(x,y,10)\n",
        "print(res[:,[9]])"
      ],
      "execution_count": 102,
      "outputs": [
        {
          "output_type": "stream",
          "text": [
            "[[ 4.01798313e-01]\n",
            " [ 8.16555713e-01]\n",
            " [ 1.34962356e-03]\n",
            " [ 1.48548407e-02]\n",
            " [-4.58063812e-03]\n",
            " [ 1.50264695e-02]\n",
            " [-6.80839355e-04]\n",
            " [-5.77131273e-03]\n",
            " [-1.41682318e-03]\n",
            " [-1.50475045e-02]]\n"
          ],
          "name": "stdout"
        }
      ]
    },
    {
      "cell_type": "code",
      "metadata": {
        "id": "5jjDGhKn3fe0",
        "colab_type": "code",
        "colab": {
          "base_uri": "https://localhost:8080/",
          "height": 187
        },
        "outputId": "828e9894-a252-4cac-df9c-0dca41569af5"
      },
      "source": [
        "\n",
        "pls2 = PLSRegression(n_components=10)\n",
        "fit2= pls2.fit(x, y)\n",
        "#print \"Estimated B\"\n",
        "print(fit2.coef_)"
      ],
      "execution_count": 103,
      "outputs": [
        {
          "output_type": "stream",
          "text": [
            "[[ 4.01999662e-01]\n",
            " [ 8.16964445e-01]\n",
            " [ 1.36104206e-03]\n",
            " [ 1.48559631e-02]\n",
            " [-4.59630932e-03]\n",
            " [ 1.50181239e-02]\n",
            " [-6.72723272e-04]\n",
            " [-5.79089953e-03]\n",
            " [-1.42637524e-03]\n",
            " [-1.50494244e-02]]\n"
          ],
          "name": "stdout"
        }
      ]
    }
  ]
}