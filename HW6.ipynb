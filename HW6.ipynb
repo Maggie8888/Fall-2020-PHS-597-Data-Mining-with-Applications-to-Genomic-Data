{
  "nbformat": 4,
  "nbformat_minor": 0,
  "metadata": {
    "colab": {
      "name": "HW6.ipynb",
      "provenance": [],
      "collapsed_sections": []
    },
    "kernelspec": {
      "name": "python3",
      "display_name": "Python 3"
    }
  },
  "cells": [
    {
      "cell_type": "code",
      "metadata": {
        "id": "3Y89c4j_68HT"
      },
      "source": [
        "import numpy as np\n",
        "import random\n",
        "import statistics\n",
        "random.seed(123456)\n",
        "mean=[0,0,0,0]\n",
        "matrix=[[1,0.5,0.5,0.5],\n",
        "        [0.5,1,0.5,0.5],\n",
        "        [0.5,0.5,1,0.5],\n",
        "        [0.5,0.5,0.5,1]]\n",
        "X=np.random.multivariate_normal(mean,matrix,100)"
      ],
      "execution_count": 283,
      "outputs": []
    },
    {
      "cell_type": "code",
      "metadata": {
        "id": "uE7bulzZ7KmD"
      },
      "source": [
        "random.seed(123456)\n",
        "B= np.random.uniform(0,1,4)\n",
        "\n",
        "sigma=np.random.normal(0, 1, 100)\n",
        "\n",
        "Y=np.dot(X,B)+sigma"
      ],
      "execution_count": 284,
      "outputs": []
    },
    {
      "cell_type": "code",
      "metadata": {
        "id": "REW9mnS9oRjv"
      },
      "source": [
        "from sklearn.linear_model import LinearRegression\n",
        "reg = LinearRegression().fit(X, Y)\n",
        "coef_est=reg.coef_"
      ],
      "execution_count": 285,
      "outputs": []
    },
    {
      "cell_type": "code",
      "metadata": {
        "id": "9zQeQG4Go6nX"
      },
      "source": [
        "### parametric bootstrap ###\n",
        "from sklearn.utils import resample\n",
        "coef=np.zeros((1000, 4))\n",
        "random.seed(123456)\n",
        "for x in range(1000):\n",
        "  bootsample = resample(data, replace=True, n_samples=100, random_state=x)\n",
        "  mod = LinearRegression().fit(bootsample.iloc[:,bootsample.columns != 0],bootsample.iloc[:,0])\n",
        "  res = mod.coef_\n",
        "  coef[x,:]=res\n",
        "  "
      ],
      "execution_count": 286,
      "outputs": []
    },
    {
      "cell_type": "code",
      "metadata": {
        "id": "9ZUNbWI9kfcb",
        "outputId": "225c1ea2-1058-4389-9fbd-ca72ac236e0c",
        "colab": {
          "base_uri": "https://localhost:8080/"
        }
      },
      "source": [
        "#### CI from parametric bootstrap\n",
        "np.column_stack((2*coef_est-np.quantile(coef, 0.975, axis=0),2*coef_est-np.quantile(coef, 0.025, axis=0)))"
      ],
      "execution_count": 287,
      "outputs": [
        {
          "output_type": "execute_result",
          "data": {
            "text/plain": [
              "array([[-0.28452652,  0.1355114 ],\n",
              "       [-0.19816111,  0.29558221],\n",
              "       [ 0.11500291,  0.66902523],\n",
              "       [-0.68116299, -0.23579135]])"
            ]
          },
          "metadata": {
            "tags": []
          },
          "execution_count": 287
        }
      ]
    },
    {
      "cell_type": "code",
      "metadata": {
        "id": "aO94KLcc73je"
      },
      "source": [
        "##### non-parametric method: using LS estimator ####\n",
        "from numpy.linalg import pinv\n",
        "def beta_p(p,X,Y):\n",
        " X=pd.DataFrame(X)\n",
        " Beta1=np.dot(np.dot(pinv(np.dot(np.transpose(X.iloc[:,X.columns != p]),X.iloc[:,X.columns != p])),np.transpose(X.iloc[:,X.columns != p])),Y)\n",
        " res1=np.subtract(Y,np.dot(X.iloc[:,X.columns != p],Beta1))\n",
        " Beta2=np.dot(np.dot(pinv(np.dot(np.transpose(X.iloc[:,X.columns != p]),X.iloc[:,X.columns != p])),np.transpose(X.iloc[:,X.columns != p])),X.iloc[:,p])\n",
        " res2=np.subtract(X.iloc[:,p],np.dot(X.iloc[:,X.columns != p],Beta2))\n",
        " Beta3=np.dot(np.dot((1/np.dot(np.transpose(res2),res2)),np.transpose(res2)),res1)\n",
        " return Beta3\n"
      ],
      "execution_count": 288,
      "outputs": []
    },
    {
      "cell_type": "code",
      "metadata": {
        "id": "iFz5q_oaZCmJ"
      },
      "source": [
        "beta_est=np.column_stack((beta_p(0,X,Y),beta_p(1,X,Y),beta_p(2,X,Y),beta_p(3,X,Y)))\n"
      ],
      "execution_count": 289,
      "outputs": []
    },
    {
      "cell_type": "code",
      "metadata": {
        "id": "rK0F7ojEP8E4"
      },
      "source": [
        "conf=np.zeros((1000, 4))\n",
        "random.seed(123456)\n",
        "for x in range(1000):\n",
        "  bootsample = resample(data, replace=True, n_samples=100, random_state=x)\n",
        "  Y=bootsample[[0]]\n",
        "  X=bootsample.iloc[:,bootsample.columns != 0]\n",
        "  X=np.asmatrix(X)\n",
        "  beta1=beta_p(0,X,Y)\n",
        "  beta2=beta_p(1,X,Y)\n",
        "  beta3=beta_p(2,X,Y)\n",
        "  beta4=beta_p(3,X,Y)\n",
        "  conf[x,:]=np.column_stack((beta1,beta2,beta3,beta4))\n",
        "  \n"
      ],
      "execution_count": 290,
      "outputs": []
    },
    {
      "cell_type": "code",
      "metadata": {
        "id": "hDiQawyaiMdE",
        "outputId": "d882972d-feb3-483f-8e12-b63a0ce63b4e",
        "colab": {
          "base_uri": "https://localhost:8080/"
        }
      },
      "source": [
        "#### CI from nonparametric bootstrap\n",
        "[2*beta_est-np.quantile(conf, 0.975, axis=0),2*beta_est-np.quantile(conf, 0.025, axis=0)]\n"
      ],
      "execution_count": 291,
      "outputs": [
        {
          "output_type": "execute_result",
          "data": {
            "text/plain": [
              "[array([[-0.26191367, -0.18028342,  0.09560447, -0.68321808]]),\n",
              " array([[ 0.16751703,  0.29541276,  0.63753072, -0.22899931]])]"
            ]
          },
          "metadata": {
            "tags": []
          },
          "execution_count": 291
        }
      ]
    }
  ]
}