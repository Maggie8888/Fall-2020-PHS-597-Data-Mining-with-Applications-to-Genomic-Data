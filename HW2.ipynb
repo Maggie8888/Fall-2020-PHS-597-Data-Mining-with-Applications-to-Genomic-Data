{
  "nbformat": 4,
  "nbformat_minor": 0,
  "metadata": {
    "colab": {
      "name": "HW2.ipynb",
      "provenance": []
    },
    "kernelspec": {
      "name": "python3",
      "display_name": "Python 3"
    }
  },
  "cells": [
    {
      "cell_type": "code",
      "metadata": {
        "id": "QsLv7OAx72V1",
        "colab_type": "code",
        "colab": {}
      },
      "source": [
        "import numpy as np\n",
        "import pandas as pd\n",
        "from sklearn import linear_model\n",
        "from sklearn import preprocessing\n",
        "import copy"
      ],
      "execution_count": 307,
      "outputs": []
    },
    {
      "cell_type": "code",
      "metadata": {
        "id": "6v5mdWYe8Biq",
        "colab_type": "code",
        "colab": {}
      },
      "source": [
        "class Algorithm:\n",
        "\t\n",
        "  def __init__(self, lambduh=0.1, max_iter=1000):\n",
        "    self.lambduh = lambduh\n",
        "    self.max_iter = max_iter\n",
        "    \n",
        "  def soft_threshold(self, a, lambduh):\n",
        "    if a < -lambduh:\n",
        "      return a+lambduh\n",
        "    elif a > lambduh:\n",
        "        return a-lambduh\n",
        "    else:\n",
        "      return 0\n",
        "\t\t\t\t   \n",
        "  def min_beta_multivariate(self, x, y, beta, j):\n",
        "    n = len(y)\n",
        "    selector = [i for i in range(x.shape[1]) if i != j]\n",
        "    norm_x_j = np.linalg.norm(x[:, j])\n",
        "    a = x[:, j].dot(y[:, np.newaxis] - x[:, selector].dot(beta[:, np.newaxis][selector, :]))\n",
        "    passin = self.lambduh*n/2\n",
        "    res = self.soft_threshold(a, passin)\n",
        "    return res/(norm_x_j**2)\n",
        "\n",
        "  def generate_simulate_data(self):\n",
        "    n = 100\n",
        "    np.random.seed(123456789)\n",
        "    X = np.random.normal(loc=2, scale=1, size=n)\n",
        "    epsilon = np.random.normal(loc=0, scale=0.1, size=n)\n",
        "    y = 1 + 2*X + 3*X**2 + 4*X**3 + epsilon\n",
        "    predictors = np.vstack([X**i for i in range(1, 11)]).T\n",
        "    scaler = preprocessing.StandardScaler()\n",
        "    x = scaler.fit_transform(predictors)\n",
        "    y = y-np.mean(y)\n",
        "    return x, y\n",
        "\n",
        "  def cycliccoorddescent(self, x, y, beta_init):\n",
        "    \"\"\"\n",
        "\t\tcycliccoorddescent that implements the cyclic coordinate descent algorithm. The cyclic \n",
        "\t\tcoordinate descent algorithm proceeds sequentially. At each iteration, the algorithm \n",
        "\t\tincrements the index j of the coordinate to minimize over. Then the algorithm performs \n",
        "\t\tpartial minimization with respect to the coordinate beta_j corresponding to that index. \n",
        "\t\tAfter updating the coordinate beta_j , the algorithm proceeds to the next iteration. \n",
        "\t\tThe function takes as input the initial point, the initial step-size value, and the \n",
        "\t\tmaximum number of iterations. The stopping criterion is the maximum number of iterations.\n",
        "\t\t\"\"\"\n",
        "    beta = copy.deepcopy(beta_init)\n",
        "    beta_vals = beta\n",
        "    d = np.size(x, 1)\n",
        "    iter = 0\n",
        "    while iter < self.max_iter:        \n",
        "      for j in range(d):\n",
        "        min_beta_j = self.min_beta_multivariate(x, y, beta, j)\n",
        "        beta[j] = min_beta_j\n",
        "      beta_vals = np.vstack((beta_vals, beta))\n",
        "      iter += 1\n",
        "      if iter % 100 == 0:\n",
        "        print('Coordinate descent iteration', iter)\n",
        "    return beta_vals\n",
        "    "
      ],
      "execution_count": 302,
      "outputs": []
    },
    {
      "cell_type": "code",
      "metadata": {
        "id": "3FcnKM6kx-To",
        "colab_type": "code",
        "colab": {
          "base_uri": "https://localhost:8080/",
          "height": 187
        },
        "outputId": "ef0d1205-ec0b-46a3-eb53-f5f617c3d646"
      },
      "source": [
        "if __name__=='__main__':\n",
        "    algorithm = Algorithm()\n",
        "    x, y = algorithm.generate_simulate_data()\n",
        "    beta_init = np.zeros(np.size(x, 1))\n",
        "    betas_cyclic = algorithm.cycliccoorddescent(x, y, beta_init)"
      ],
      "execution_count": 308,
      "outputs": [
        {
          "output_type": "stream",
          "text": [
            "Coordinate descent iteration 100\n",
            "Coordinate descent iteration 200\n",
            "Coordinate descent iteration 300\n",
            "Coordinate descent iteration 400\n",
            "Coordinate descent iteration 500\n",
            "Coordinate descent iteration 600\n",
            "Coordinate descent iteration 700\n",
            "Coordinate descent iteration 800\n",
            "Coordinate descent iteration 900\n",
            "Coordinate descent iteration 1000\n"
          ],
          "name": "stdout"
        }
      ]
    },
    {
      "cell_type": "code",
      "metadata": {
        "id": "5SsJmc81yaIo",
        "colab_type": "code",
        "colab": {
          "base_uri": "https://localhost:8080/",
          "height": 51
        },
        "outputId": "7bd4cc34-fcc0-4ffa-a6b8-0aea109dfecc"
      },
      "source": [
        "print(betas_cyclic[1000])"
      ],
      "execution_count": 309,
      "outputs": [
        {
          "output_type": "stream",
          "text": [
            "[ 0.         28.31605612 58.21910484 15.08880979  0.          0.\n",
            "  0.          0.          0.         -0.88913633]\n"
          ],
          "name": "stdout"
        }
      ]
    },
    {
      "cell_type": "code",
      "metadata": {
        "id": "yLD1Ya-YbFT-",
        "colab_type": "code",
        "colab": {}
      },
      "source": [
        "### comparing with sklearn.linear.model.Lasso\n",
        "\"\"\"Generate simulated data sets and standarize data.\"\"\"\n",
        "n = 100\n",
        "np.random.seed(123456789)\n",
        "X = np.random.normal(loc=2, scale=1, size=n)\n",
        "epsilon = np.random.normal(loc=0, scale=0.1, size=n)\n",
        "y = 1 + 2*X + 3*X**2 + 4*X**3 + epsilon\n",
        "predictors = np.vstack([X**i for i in range(1, 11)]).T\n",
        "scaler = preprocessing.StandardScaler()\n",
        "x = scaler.fit_transform(predictors)\n",
        "y = y-np.mean(y)\n",
        "\"\"\" fit model \"\"\"\n",
        "lasso_model = linear_model.Lasso(alpha=0.05, fit_intercept=False, max_iter=1000,selection='cyclic',normalize=False)\n",
        "lasso_fit = lasso_model.fit(x, y)\n",
        "beta_star = lasso_fit.coef_"
      ],
      "execution_count": 310,
      "outputs": []
    },
    {
      "cell_type": "code",
      "metadata": {
        "id": "Hk73H0mOmrMS",
        "colab_type": "code",
        "colab": {
          "base_uri": "https://localhost:8080/",
          "height": 51
        },
        "outputId": "0a932653-b9a4-4975-a301-06387773abb7"
      },
      "source": [
        "print(beta_star)"
      ],
      "execution_count": 311,
      "outputs": [
        {
          "output_type": "stream",
          "text": [
            "[-0.         28.31605612 58.21910484 15.08880979  0.          0.\n",
            " -0.         -0.         -0.         -0.88913633]\n"
          ],
          "name": "stdout"
        }
      ]
    }
  ]
}